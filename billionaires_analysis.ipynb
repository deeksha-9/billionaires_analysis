{
 "cells": [
  {
   "cell_type": "code",
   "execution_count": 1,
   "metadata": {},
   "outputs": [],
   "source": [
    "import pandas as pd\n",
    "import numpy as np\n",
    "import seaborn as sn\n",
    "import matplotlib.pyplot as plt"
   ]
  },
  {
   "cell_type": "code",
   "execution_count": 2,
   "metadata": {},
   "outputs": [],
   "source": [
    "df = pd.read_csv(\"billionaires-analysis.csv\")"
   ]
  },
  {
   "cell_type": "code",
   "execution_count": 3,
   "metadata": {},
   "outputs": [
    {
     "data": {
      "text/html": [
       "<div>\n",
       "<style scoped>\n",
       "    .dataframe tbody tr th:only-of-type {\n",
       "        vertical-align: middle;\n",
       "    }\n",
       "\n",
       "    .dataframe tbody tr th {\n",
       "        vertical-align: top;\n",
       "    }\n",
       "\n",
       "    .dataframe thead th {\n",
       "        text-align: right;\n",
       "    }\n",
       "</style>\n",
       "<table border=\"1\" class=\"dataframe\">\n",
       "  <thead>\n",
       "    <tr style=\"text-align: right;\">\n",
       "      <th></th>\n",
       "      <th>Name</th>\n",
       "      <th>NetWorth</th>\n",
       "      <th>Country</th>\n",
       "      <th>Source</th>\n",
       "      <th>Rank</th>\n",
       "      <th>Age</th>\n",
       "      <th>Industry</th>\n",
       "    </tr>\n",
       "  </thead>\n",
       "  <tbody>\n",
       "    <tr>\n",
       "      <th>0</th>\n",
       "      <td>Jeff Bezos</td>\n",
       "      <td>$177 B</td>\n",
       "      <td>United States</td>\n",
       "      <td>Amazon</td>\n",
       "      <td>1</td>\n",
       "      <td>57.0</td>\n",
       "      <td>Technology</td>\n",
       "    </tr>\n",
       "    <tr>\n",
       "      <th>1</th>\n",
       "      <td>Elon Musk</td>\n",
       "      <td>$151 B</td>\n",
       "      <td>United States</td>\n",
       "      <td>Tesla, SpaceX</td>\n",
       "      <td>2</td>\n",
       "      <td>49.0</td>\n",
       "      <td>Automotive</td>\n",
       "    </tr>\n",
       "    <tr>\n",
       "      <th>2</th>\n",
       "      <td>Bernard Arnault &amp; family</td>\n",
       "      <td>$150 B</td>\n",
       "      <td>France</td>\n",
       "      <td>LVMH</td>\n",
       "      <td>3</td>\n",
       "      <td>72.0</td>\n",
       "      <td>Fashion &amp; Retail</td>\n",
       "    </tr>\n",
       "    <tr>\n",
       "      <th>3</th>\n",
       "      <td>Bill Gates</td>\n",
       "      <td>$124 B</td>\n",
       "      <td>United States</td>\n",
       "      <td>Microsoft</td>\n",
       "      <td>4</td>\n",
       "      <td>65.0</td>\n",
       "      <td>Technology</td>\n",
       "    </tr>\n",
       "    <tr>\n",
       "      <th>4</th>\n",
       "      <td>Mark Zuckerberg</td>\n",
       "      <td>$97 B</td>\n",
       "      <td>United States</td>\n",
       "      <td>Facebook</td>\n",
       "      <td>5</td>\n",
       "      <td>36.0</td>\n",
       "      <td>Technology</td>\n",
       "    </tr>\n",
       "    <tr>\n",
       "      <th>5</th>\n",
       "      <td>Warren Buffett</td>\n",
       "      <td>$96 B</td>\n",
       "      <td>United States</td>\n",
       "      <td>Berkshire Hathaway</td>\n",
       "      <td>6</td>\n",
       "      <td>90.0</td>\n",
       "      <td>Finance &amp; Investments</td>\n",
       "    </tr>\n",
       "    <tr>\n",
       "      <th>6</th>\n",
       "      <td>Larry Ellison</td>\n",
       "      <td>$93 B</td>\n",
       "      <td>United States</td>\n",
       "      <td>software</td>\n",
       "      <td>7</td>\n",
       "      <td>76.0</td>\n",
       "      <td>Technology</td>\n",
       "    </tr>\n",
       "    <tr>\n",
       "      <th>7</th>\n",
       "      <td>Larry Page</td>\n",
       "      <td>$91.5 B</td>\n",
       "      <td>United States</td>\n",
       "      <td>Google</td>\n",
       "      <td>8</td>\n",
       "      <td>48.0</td>\n",
       "      <td>Technology</td>\n",
       "    </tr>\n",
       "    <tr>\n",
       "      <th>8</th>\n",
       "      <td>Sergey Brin</td>\n",
       "      <td>$89 B</td>\n",
       "      <td>United States</td>\n",
       "      <td>Google</td>\n",
       "      <td>9</td>\n",
       "      <td>47.0</td>\n",
       "      <td>Technology</td>\n",
       "    </tr>\n",
       "    <tr>\n",
       "      <th>9</th>\n",
       "      <td>Mukesh Ambani</td>\n",
       "      <td>$84.5 B</td>\n",
       "      <td>India</td>\n",
       "      <td>diversified</td>\n",
       "      <td>10</td>\n",
       "      <td>63.0</td>\n",
       "      <td>Diversified</td>\n",
       "    </tr>\n",
       "  </tbody>\n",
       "</table>\n",
       "</div>"
      ],
      "text/plain": [
       "                       Name NetWorth        Country              Source  Rank  \\\n",
       "0                Jeff Bezos   $177 B  United States              Amazon     1   \n",
       "1                 Elon Musk   $151 B  United States       Tesla, SpaceX     2   \n",
       "2  Bernard Arnault & family   $150 B         France                LVMH     3   \n",
       "3                Bill Gates   $124 B  United States           Microsoft     4   \n",
       "4           Mark Zuckerberg    $97 B  United States            Facebook     5   \n",
       "5            Warren Buffett    $96 B  United States  Berkshire Hathaway     6   \n",
       "6             Larry Ellison    $93 B  United States            software     7   \n",
       "7                Larry Page  $91.5 B  United States              Google     8   \n",
       "8               Sergey Brin    $89 B  United States              Google     9   \n",
       "9             Mukesh Ambani  $84.5 B          India         diversified    10   \n",
       "\n",
       "    Age               Industry  \n",
       "0  57.0             Technology  \n",
       "1  49.0             Automotive  \n",
       "2  72.0       Fashion & Retail  \n",
       "3  65.0             Technology  \n",
       "4  36.0             Technology  \n",
       "5  90.0  Finance & Investments  \n",
       "6  76.0             Technology  \n",
       "7  48.0             Technology  \n",
       "8  47.0             Technology  \n",
       "9  63.0            Diversified  "
      ]
     },
     "execution_count": 3,
     "metadata": {},
     "output_type": "execute_result"
    }
   ],
   "source": [
    "df.head(10)"
   ]
  },
  {
   "cell_type": "code",
   "execution_count": 4,
   "metadata": {},
   "outputs": [
    {
     "data": {
      "text/html": [
       "<div>\n",
       "<style scoped>\n",
       "    .dataframe tbody tr th:only-of-type {\n",
       "        vertical-align: middle;\n",
       "    }\n",
       "\n",
       "    .dataframe tbody tr th {\n",
       "        vertical-align: top;\n",
       "    }\n",
       "\n",
       "    .dataframe thead th {\n",
       "        text-align: right;\n",
       "    }\n",
       "</style>\n",
       "<table border=\"1\" class=\"dataframe\">\n",
       "  <thead>\n",
       "    <tr style=\"text-align: right;\">\n",
       "      <th></th>\n",
       "      <th>Name</th>\n",
       "      <th>NetWorth</th>\n",
       "      <th>Country</th>\n",
       "      <th>Source</th>\n",
       "      <th>Rank</th>\n",
       "      <th>Age</th>\n",
       "      <th>Industry</th>\n",
       "    </tr>\n",
       "  </thead>\n",
       "  <tbody>\n",
       "    <tr>\n",
       "      <th>2745</th>\n",
       "      <td>Xu Jin</td>\n",
       "      <td>$1 B</td>\n",
       "      <td>China</td>\n",
       "      <td>wine</td>\n",
       "      <td>2674</td>\n",
       "      <td>56.0</td>\n",
       "      <td>Food &amp; Beverage</td>\n",
       "    </tr>\n",
       "    <tr>\n",
       "      <th>2746</th>\n",
       "      <td>Vadim Yakunin</td>\n",
       "      <td>$1 B</td>\n",
       "      <td>Russia</td>\n",
       "      <td>pharmacy</td>\n",
       "      <td>2674</td>\n",
       "      <td>58.0</td>\n",
       "      <td>Healthcare</td>\n",
       "    </tr>\n",
       "    <tr>\n",
       "      <th>2747</th>\n",
       "      <td>Mark Haoyong Yang</td>\n",
       "      <td>$1 B</td>\n",
       "      <td>China</td>\n",
       "      <td>e-commerce</td>\n",
       "      <td>2674</td>\n",
       "      <td>46.0</td>\n",
       "      <td>Technology</td>\n",
       "    </tr>\n",
       "    <tr>\n",
       "      <th>2748</th>\n",
       "      <td>Yao Hsiao Tung</td>\n",
       "      <td>$1 B</td>\n",
       "      <td>Singapore</td>\n",
       "      <td>Manufacturing</td>\n",
       "      <td>2674</td>\n",
       "      <td>81.0</td>\n",
       "      <td>Manufacturing</td>\n",
       "    </tr>\n",
       "    <tr>\n",
       "      <th>2749</th>\n",
       "      <td>Yu De-Chao</td>\n",
       "      <td>$1 B</td>\n",
       "      <td>United States</td>\n",
       "      <td>pharmaceuticals</td>\n",
       "      <td>2674</td>\n",
       "      <td>57.0</td>\n",
       "      <td>Healthcare</td>\n",
       "    </tr>\n",
       "    <tr>\n",
       "      <th>2750</th>\n",
       "      <td>Daniel Yong Zhang</td>\n",
       "      <td>$1 B</td>\n",
       "      <td>China</td>\n",
       "      <td>e-commerce</td>\n",
       "      <td>2674</td>\n",
       "      <td>49.0</td>\n",
       "      <td>Technology</td>\n",
       "    </tr>\n",
       "    <tr>\n",
       "      <th>2751</th>\n",
       "      <td>Zhang Yuqiang</td>\n",
       "      <td>$1 B</td>\n",
       "      <td>China</td>\n",
       "      <td>Fiberglass</td>\n",
       "      <td>2674</td>\n",
       "      <td>65.0</td>\n",
       "      <td>Manufacturing</td>\n",
       "    </tr>\n",
       "    <tr>\n",
       "      <th>2752</th>\n",
       "      <td>Zhao Meiguang</td>\n",
       "      <td>$1 B</td>\n",
       "      <td>China</td>\n",
       "      <td>gold mining</td>\n",
       "      <td>2674</td>\n",
       "      <td>58.0</td>\n",
       "      <td>Metals &amp; Mining</td>\n",
       "    </tr>\n",
       "    <tr>\n",
       "      <th>2753</th>\n",
       "      <td>Zhong Naixiong</td>\n",
       "      <td>$1 B</td>\n",
       "      <td>China</td>\n",
       "      <td>conglomerate</td>\n",
       "      <td>2674</td>\n",
       "      <td>58.0</td>\n",
       "      <td>Diversified</td>\n",
       "    </tr>\n",
       "    <tr>\n",
       "      <th>2754</th>\n",
       "      <td>Zhou Wei family</td>\n",
       "      <td>$1 B</td>\n",
       "      <td>China</td>\n",
       "      <td>Software</td>\n",
       "      <td>2674</td>\n",
       "      <td>54.0</td>\n",
       "      <td>Technology</td>\n",
       "    </tr>\n",
       "  </tbody>\n",
       "</table>\n",
       "</div>"
      ],
      "text/plain": [
       "                   Name NetWorth        Country           Source  Rank   Age  \\\n",
       "2745             Xu Jin     $1 B          China             wine  2674  56.0   \n",
       "2746      Vadim Yakunin     $1 B         Russia         pharmacy  2674  58.0   \n",
       "2747  Mark Haoyong Yang     $1 B          China       e-commerce  2674  46.0   \n",
       "2748     Yao Hsiao Tung     $1 B      Singapore    Manufacturing  2674  81.0   \n",
       "2749         Yu De-Chao     $1 B  United States  pharmaceuticals  2674  57.0   \n",
       "2750  Daniel Yong Zhang     $1 B          China       e-commerce  2674  49.0   \n",
       "2751      Zhang Yuqiang     $1 B          China       Fiberglass  2674  65.0   \n",
       "2752      Zhao Meiguang     $1 B          China      gold mining  2674  58.0   \n",
       "2753     Zhong Naixiong     $1 B          China     conglomerate  2674  58.0   \n",
       "2754    Zhou Wei family     $1 B          China         Software  2674  54.0   \n",
       "\n",
       "             Industry  \n",
       "2745  Food & Beverage  \n",
       "2746       Healthcare  \n",
       "2747       Technology  \n",
       "2748    Manufacturing  \n",
       "2749       Healthcare  \n",
       "2750       Technology  \n",
       "2751    Manufacturing  \n",
       "2752  Metals & Mining  \n",
       "2753      Diversified  \n",
       "2754       Technology  "
      ]
     },
     "execution_count": 4,
     "metadata": {},
     "output_type": "execute_result"
    }
   ],
   "source": [
    "df.tail(10)"
   ]
  },
  {
   "cell_type": "code",
   "execution_count": 5,
   "metadata": {},
   "outputs": [
    {
     "name": "stdout",
     "output_type": "stream",
     "text": [
      "<class 'pandas.core.frame.DataFrame'>\n",
      "RangeIndex: 2755 entries, 0 to 2754\n",
      "Data columns (total 7 columns):\n",
      " #   Column    Non-Null Count  Dtype  \n",
      "---  ------    --------------  -----  \n",
      " 0   Name      2755 non-null   object \n",
      " 1   NetWorth  2755 non-null   object \n",
      " 2   Country   2755 non-null   object \n",
      " 3   Source    2755 non-null   object \n",
      " 4   Rank      2755 non-null   int64  \n",
      " 5   Age       2676 non-null   float64\n",
      " 6   Industry  2755 non-null   object \n",
      "dtypes: float64(1), int64(1), object(5)\n",
      "memory usage: 150.8+ KB\n"
     ]
    }
   ],
   "source": [
    "df.info()"
   ]
  },
  {
   "cell_type": "code",
   "execution_count": 6,
   "metadata": {},
   "outputs": [
    {
     "data": {
      "text/html": [
       "<div>\n",
       "<style scoped>\n",
       "    .dataframe tbody tr th:only-of-type {\n",
       "        vertical-align: middle;\n",
       "    }\n",
       "\n",
       "    .dataframe tbody tr th {\n",
       "        vertical-align: top;\n",
       "    }\n",
       "\n",
       "    .dataframe thead th {\n",
       "        text-align: right;\n",
       "    }\n",
       "</style>\n",
       "<table border=\"1\" class=\"dataframe\">\n",
       "  <thead>\n",
       "    <tr style=\"text-align: right;\">\n",
       "      <th></th>\n",
       "      <th>Rank</th>\n",
       "      <th>Age</th>\n",
       "    </tr>\n",
       "  </thead>\n",
       "  <tbody>\n",
       "    <tr>\n",
       "      <th>count</th>\n",
       "      <td>2755.000000</td>\n",
       "      <td>2676.000000</td>\n",
       "    </tr>\n",
       "    <tr>\n",
       "      <th>mean</th>\n",
       "      <td>1345.663521</td>\n",
       "      <td>63.113602</td>\n",
       "    </tr>\n",
       "    <tr>\n",
       "      <th>std</th>\n",
       "      <td>772.669811</td>\n",
       "      <td>13.445153</td>\n",
       "    </tr>\n",
       "    <tr>\n",
       "      <th>min</th>\n",
       "      <td>1.000000</td>\n",
       "      <td>18.000000</td>\n",
       "    </tr>\n",
       "    <tr>\n",
       "      <th>25%</th>\n",
       "      <td>680.000000</td>\n",
       "      <td>54.000000</td>\n",
       "    </tr>\n",
       "    <tr>\n",
       "      <th>50%</th>\n",
       "      <td>1362.000000</td>\n",
       "      <td>63.000000</td>\n",
       "    </tr>\n",
       "    <tr>\n",
       "      <th>75%</th>\n",
       "      <td>2035.000000</td>\n",
       "      <td>73.000000</td>\n",
       "    </tr>\n",
       "    <tr>\n",
       "      <th>max</th>\n",
       "      <td>2674.000000</td>\n",
       "      <td>99.000000</td>\n",
       "    </tr>\n",
       "  </tbody>\n",
       "</table>\n",
       "</div>"
      ],
      "text/plain": [
       "              Rank          Age\n",
       "count  2755.000000  2676.000000\n",
       "mean   1345.663521    63.113602\n",
       "std     772.669811    13.445153\n",
       "min       1.000000    18.000000\n",
       "25%     680.000000    54.000000\n",
       "50%    1362.000000    63.000000\n",
       "75%    2035.000000    73.000000\n",
       "max    2674.000000    99.000000"
      ]
     },
     "execution_count": 6,
     "metadata": {},
     "output_type": "execute_result"
    }
   ],
   "source": [
    "df.describe()"
   ]
  },
  {
   "cell_type": "code",
   "execution_count": 7,
   "metadata": {},
   "outputs": [
    {
     "data": {
      "text/plain": [
       "Name         0\n",
       "NetWorth     0\n",
       "Country      0\n",
       "Source       0\n",
       "Rank         0\n",
       "Age         79\n",
       "Industry     0\n",
       "dtype: int64"
      ]
     },
     "execution_count": 7,
     "metadata": {},
     "output_type": "execute_result"
    }
   ],
   "source": [
    "df.isnull().sum()"
   ]
  },
  {
   "cell_type": "code",
   "execution_count": 8,
   "metadata": {},
   "outputs": [
    {
     "data": {
      "text/plain": [
       "(2755, 7)"
      ]
     },
     "execution_count": 8,
     "metadata": {},
     "output_type": "execute_result"
    }
   ],
   "source": [
    "df.shape"
   ]
  },
  {
   "cell_type": "code",
   "execution_count": 9,
   "metadata": {},
   "outputs": [],
   "source": [
    "df[\"NetWorth\"] = df[\"NetWorth\"].str.strip(\"$\")\n",
    "df[\"NetWorth\"] = df[\"NetWorth\"].str.strip(\"B\")\n",
    "df[\"NetWorth\"] = df[\"NetWorth\"].astype(float)"
   ]
  },
  {
   "cell_type": "markdown",
   "metadata": {},
   "source": [
    "## Top Five billionaires"
   ]
  },
  {
   "cell_type": "code",
   "execution_count": 10,
   "metadata": {},
   "outputs": [
    {
     "data": {
      "image/png": "[encoded data removed]",
      "text/plain": [
       "<Figure size 720x432 with 1 Axes>"
      ]
     },
     "metadata": {
      "needs_background": "light"
     },
     "output_type": "display_data"
    }
   ],
   "source": [
    "plt.figure(figsize=(10, 6))\n",
    "plt.bar(df['Name'].head(5), df['NetWorth'].head(5), color='purple')\n",
    "plt.title('The top Five billionaires')\n",
    "plt.xlabel('NetWorth in billions')\n",
    "plt.ylabel('Top Five Billionaires')\n",
    "plt.show()"
   ]
  },
  {
   "cell_type": "markdown",
   "metadata": {},
   "source": [
    "## Top 5 industries with the most Billionaires"
   ]
  },
  {
   "cell_type": "code",
   "execution_count": 11,
   "metadata": {},
   "outputs": [
    {
     "data": {
      "image/png": "[encoded data removed]",
      "text/plain": [
       "<Figure size 720x360 with 1 Axes>"
      ]
     },
     "metadata": {
      "needs_background": "light"
     },
     "output_type": "display_data"
    }
   ],
   "source": [
    "df['Industry'].value_counts()[:5].plot(kind='bar', cmap='seismic', figsize=(10,5))\n",
    "plt.title('Top 5 industries with the most Billionaires')\n",
    "plt.xlabel('Number of Billionaires')\n",
    "plt.ylabel('Countries')\n",
    "plt.show()"
   ]
  },
  {
   "cell_type": "markdown",
   "metadata": {},
   "source": [
    "## Top 5 countries with the most billionaires"
   ]
  },
  {
   "cell_type": "code",
   "execution_count": 12,
   "metadata": {},
   "outputs": [
    {
     "data": {
      "image/png": "[encoded data removed]",
      "text/plain": [
       "<Figure size 720x360 with 1 Axes>"
      ]
     },
     "metadata": {
      "needs_background": "light"
     },
     "output_type": "display_data"
    }
   ],
   "source": [
    "df['Country'].value_counts()[:5].plot(kind='barh', cmap='plasma', figsize=(10,5))\n",
    "plt.title('top 5 countries with the most billionaires')\n",
    "plt.xlabel('Number of Billionaires')\n",
    "plt.ylabel('Countries')\n",
    "plt.show()"
   ]
  },
  {
   "cell_type": "code",
   "execution_count": 13,
   "metadata": {},
   "outputs": [
    {
     "data": {
      "image/png": "[encoded data removed]",
      "text/plain": [
       "<Figure size 720x360 with 1 Axes>"
      ]
     },
     "metadata": {
      "needs_background": "light"
     },
     "output_type": "display_data"
    }
   ],
   "source": [
    "plt.subplots(1, 1, figsize=(10, 5))\n",
    "df['Source'].value_counts()[:5].plot(kind='bar', color = 'purple')\n",
    "plt.xlabel('Sources')\n",
    "plt.ylabel('People who are billionaire')\n",
    "plt.title('Top Five Sources with billionaire')\n",
    "plt.show()"
   ]
  },
  {
   "cell_type": "code",
   "execution_count": 14,
   "metadata": {},
   "outputs": [
    {
     "data": {
      "text/plain": [
       "Source\n",
       "real estate        686.1\n",
       "diversified        378.2\n",
       "investments        339.2\n",
       "pharmaceuticals    335.3\n",
       "software           275.8\n",
       "hedge funds        240.1\n",
       "Amazon             230.0\n",
       "e-commerce         225.5\n",
       "Walmart            220.2\n",
       "Google             216.4\n",
       "Microsoft          197.7\n",
       "retail             159.9\n",
       "Tesla, SpaceX      151.0\n",
       "LVMH               150.0\n",
       "Facebook           142.4\n",
       "mining             141.6\n",
       "telecom            126.4\n",
       "private equity     124.0\n",
       "chemicals          106.4\n",
       "banking            106.4\n",
       "Name: NetWorth, dtype: float64"
      ]
     },
     "execution_count": 14,
     "metadata": {},
     "output_type": "execute_result"
    }
   ],
   "source": [
    "df.groupby(\"Source\").NetWorth.sum().sort_values(ascending= False).head(20)"
   ]
  },
  {
   "cell_type": "markdown",
   "metadata": {},
   "source": [
    "## Billioinaires having more than one company"
   ]
  },
  {
   "cell_type": "code",
   "execution_count": 15,
   "metadata": {},
   "outputs": [
    {
     "data": {
      "text/html": [
       "<div>\n",
       "<style scoped>\n",
       "    .dataframe tbody tr th:only-of-type {\n",
       "        vertical-align: middle;\n",
       "    }\n",
       "\n",
       "    .dataframe tbody tr th {\n",
       "        vertical-align: top;\n",
       "    }\n",
       "\n",
       "    .dataframe thead th {\n",
       "        text-align: right;\n",
       "    }\n",
       "</style>\n",
       "<table border=\"1\" class=\"dataframe\">\n",
       "  <thead>\n",
       "    <tr style=\"text-align: right;\">\n",
       "      <th></th>\n",
       "      <th>Name</th>\n",
       "      <th>NetWorth</th>\n",
       "      <th>Country</th>\n",
       "      <th>Source</th>\n",
       "      <th>Rank</th>\n",
       "      <th>Age</th>\n",
       "      <th>Industry</th>\n",
       "    </tr>\n",
       "  </thead>\n",
       "  <tbody>\n",
       "    <tr>\n",
       "      <th>1</th>\n",
       "      <td>Elon Musk</td>\n",
       "      <td>151.0</td>\n",
       "      <td>United States</td>\n",
       "      <td>Tesla, SpaceX</td>\n",
       "      <td>2</td>\n",
       "      <td>49.0</td>\n",
       "      <td>Automotive</td>\n",
       "    </tr>\n",
       "    <tr>\n",
       "      <th>9</th>\n",
       "      <td>Mukesh Ambani</td>\n",
       "      <td>84.5</td>\n",
       "      <td>India</td>\n",
       "      <td>diversified</td>\n",
       "      <td>10</td>\n",
       "      <td>63.0</td>\n",
       "      <td>Diversified</td>\n",
       "    </tr>\n",
       "    <tr>\n",
       "      <th>12</th>\n",
       "      <td>Zhong Shanshan</td>\n",
       "      <td>68.9</td>\n",
       "      <td>China</td>\n",
       "      <td>beverages, pharmaceuticals</td>\n",
       "      <td>13</td>\n",
       "      <td>66.0</td>\n",
       "      <td>Food &amp; Beverage</td>\n",
       "    </tr>\n",
       "    <tr>\n",
       "      <th>23</th>\n",
       "      <td>Gautam Adani &amp; family</td>\n",
       "      <td>50.5</td>\n",
       "      <td>India</td>\n",
       "      <td>infrastructure, commodities</td>\n",
       "      <td>24</td>\n",
       "      <td>58.0</td>\n",
       "      <td>Diversified</td>\n",
       "    </tr>\n",
       "    <tr>\n",
       "      <th>28</th>\n",
       "      <td>Masayoshi Son</td>\n",
       "      <td>45.4</td>\n",
       "      <td>Japan</td>\n",
       "      <td>internet, telecom</td>\n",
       "      <td>29</td>\n",
       "      <td>63.0</td>\n",
       "      <td>Telecom</td>\n",
       "    </tr>\n",
       "  </tbody>\n",
       "</table>\n",
       "</div>"
      ],
      "text/plain": [
       "                     Name  NetWorth        Country  \\\n",
       "1               Elon Musk     151.0  United States   \n",
       "9           Mukesh Ambani      84.5          India   \n",
       "12         Zhong Shanshan      68.9          China   \n",
       "23  Gautam Adani & family      50.5          India   \n",
       "28          Masayoshi Son      45.4          Japan   \n",
       "\n",
       "                         Source  Rank   Age         Industry  \n",
       "1                 Tesla, SpaceX     2  49.0       Automotive  \n",
       "9                   diversified    10  63.0      Diversified  \n",
       "12   beverages, pharmaceuticals    13  66.0  Food & Beverage  \n",
       "23  infrastructure, commodities    24  58.0      Diversified  \n",
       "28            internet, telecom    29  63.0          Telecom  "
      ]
     },
     "execution_count": 15,
     "metadata": {},
     "output_type": "execute_result"
    }
   ],
   "source": [
    "\n",
    "df1 = df[df['Source'].str.contains(\",\") | df['Source'].str.contains('diver')]\n",
    "df1.head()"
   ]
  },
  {
   "cell_type": "markdown",
   "metadata": {},
   "source": [
    "## Number Of Billionaires in top five country"
   ]
  },
  {
   "cell_type": "code",
   "execution_count": 16,
   "metadata": {},
   "outputs": [
    {
     "data": {
      "text/html": [
       "<div>\n",
       "<style scoped>\n",
       "    .dataframe tbody tr th:only-of-type {\n",
       "        vertical-align: middle;\n",
       "    }\n",
       "\n",
       "    .dataframe tbody tr th {\n",
       "        vertical-align: top;\n",
       "    }\n",
       "\n",
       "    .dataframe thead th {\n",
       "        text-align: right;\n",
       "    }\n",
       "</style>\n",
       "<table border=\"1\" class=\"dataframe\">\n",
       "  <thead>\n",
       "    <tr style=\"text-align: right;\">\n",
       "      <th></th>\n",
       "      <th>Billionaires</th>\n",
       "      <th>NetWorth</th>\n",
       "      <th>Country</th>\n",
       "      <th>Source</th>\n",
       "      <th>Rank</th>\n",
       "      <th>Age</th>\n",
       "      <th>Industry</th>\n",
       "    </tr>\n",
       "  </thead>\n",
       "  <tbody>\n",
       "    <tr>\n",
       "      <th>1</th>\n",
       "      <td>Elon Musk</td>\n",
       "      <td>151.0</td>\n",
       "      <td>United States</td>\n",
       "      <td>Tesla, SpaceX</td>\n",
       "      <td>2</td>\n",
       "      <td>49.0</td>\n",
       "      <td>Automotive</td>\n",
       "    </tr>\n",
       "    <tr>\n",
       "      <th>9</th>\n",
       "      <td>Mukesh Ambani</td>\n",
       "      <td>84.5</td>\n",
       "      <td>India</td>\n",
       "      <td>diversified</td>\n",
       "      <td>10</td>\n",
       "      <td>63.0</td>\n",
       "      <td>Diversified</td>\n",
       "    </tr>\n",
       "    <tr>\n",
       "      <th>12</th>\n",
       "      <td>Zhong Shanshan</td>\n",
       "      <td>68.9</td>\n",
       "      <td>China</td>\n",
       "      <td>beverages, pharmaceuticals</td>\n",
       "      <td>13</td>\n",
       "      <td>66.0</td>\n",
       "      <td>Food &amp; Beverage</td>\n",
       "    </tr>\n",
       "    <tr>\n",
       "      <th>23</th>\n",
       "      <td>Gautam Adani &amp; family</td>\n",
       "      <td>50.5</td>\n",
       "      <td>India</td>\n",
       "      <td>infrastructure, commodities</td>\n",
       "      <td>24</td>\n",
       "      <td>58.0</td>\n",
       "      <td>Diversified</td>\n",
       "    </tr>\n",
       "    <tr>\n",
       "      <th>28</th>\n",
       "      <td>Masayoshi Son</td>\n",
       "      <td>45.4</td>\n",
       "      <td>Japan</td>\n",
       "      <td>internet, telecom</td>\n",
       "      <td>29</td>\n",
       "      <td>63.0</td>\n",
       "      <td>Telecom</td>\n",
       "    </tr>\n",
       "  </tbody>\n",
       "</table>\n",
       "</div>"
      ],
      "text/plain": [
       "             Billionaires  NetWorth        Country  \\\n",
       "1               Elon Musk     151.0  United States   \n",
       "9           Mukesh Ambani      84.5          India   \n",
       "12         Zhong Shanshan      68.9          China   \n",
       "23  Gautam Adani & family      50.5          India   \n",
       "28          Masayoshi Son      45.4          Japan   \n",
       "\n",
       "                         Source  Rank   Age         Industry  \n",
       "1                 Tesla, SpaceX     2  49.0       Automotive  \n",
       "9                   diversified    10  63.0      Diversified  \n",
       "12   beverages, pharmaceuticals    13  66.0  Food & Beverage  \n",
       "23  infrastructure, commodities    24  58.0      Diversified  \n",
       "28            internet, telecom    29  63.0          Telecom  "
      ]
     },
     "execution_count": 16,
     "metadata": {},
     "output_type": "execute_result"
    }
   ],
   "source": [
    "df2 = df.drop_duplicates().groupby('Country').count().copy()\n",
    "\n",
    "df2 = df2['Name'].copy()\n",
    "\n",
    "df2 = df2.sort_values(ascending=False)\n",
    "\n",
    "df2 = pd.DataFrame(df1)\n",
    "\n",
    "df2.rename(columns = {'Name':'Billionaires'}, inplace = True)\n",
    "df2.head()"
   ]
  },
  {
   "cell_type": "markdown",
   "metadata": {},
   "source": [
    "## Distribution by age with respect to net worth"
   ]
  },
  {
   "cell_type": "code",
   "execution_count": 26,
   "metadata": {},
   "outputs": [
    {
     "data": {
      "text/plain": [
       "<matplotlib.axes._subplots.AxesSubplot at 0x155f3c07160>"
      ]
     },
     "execution_count": 26,
     "metadata": {},
     "output_type": "execute_result"
    },
    {
     "data": {
      "image/png": "[encoded data removed]",
      "text/plain": [
       "<Figure size 432x288 with 1 Axes>"
      ]
     },
     "metadata": {
      "needs_background": "light"
     },
     "output_type": "display_data"
    }
   ],
   "source": [
    "age_money = df.groupby(df['Age'] // 10*10 )['NetWorth'].sum().to_frame().sort_values(by=['Age'])\n",
    "age_money.plot(kind=\"bar\")"
   ]
  },
  {
   "cell_type": "code",
   "execution_count": 17,
   "metadata": {},
   "outputs": [],
   "source": [
    "from wordcloud import WordCloud, STOPWORDS"
   ]
  },
  {
   "cell_type": "code",
   "execution_count": 29,
   "metadata": {},
   "outputs": [],
   "source": [
    "df_source = \" \".join(df['Source'])"
   ]
  },
  {
   "cell_type": "code",
   "execution_count": 19,
   "metadata": {},
   "outputs": [
    {
     "data": {
      "text/plain": [
       "(-0.5, 9999.5, 7999.5, -0.5)"
      ]
     },
     "execution_count": 19,
     "metadata": {},
     "output_type": "execute_result"
    },
    {
     "data": {
      "image/png": "[encoded data removed]",
      "text/plain": [
       "<Figure size 432x288 with 1 Axes>"
      ]
     },
     "metadata": {
      "needs_background": "light"
     },
     "output_type": "display_data"
    }
   ],
   "source": [
    "wordcloud = WordCloud(width = 10000, height = 8000, random_state=1, background_color='black', colormap='Blues', collocations=False, stopwords = STOPWORDS).generate(df_source)\n",
    "plt.imshow(wordcloud, interpolation='bilinear')\n",
    "plt.axis('off')"
   ]
  },
  {
   "cell_type": "code",
   "execution_count": null,
   "metadata": {},
   "outputs": [],
   "source": []
  }
 ],
 "metadata": {
  "kernelspec": {
   "display_name": "Python 3",
   "language": "python",
   "name": "python3"
  },
  "language_info": {
   "codemirror_mode": {
    "name": "ipython",
    "version": 3
   },
   "file_extension": ".py",
   "mimetype": "text/x-python",
   "name": "python",
   "nbconvert_exporter": "python",
   "pygments_lexer": "ipython3",
   "version": "3.8.3"
  }
 },
 "nbformat": 4,
 "nbformat_minor": 4
}
